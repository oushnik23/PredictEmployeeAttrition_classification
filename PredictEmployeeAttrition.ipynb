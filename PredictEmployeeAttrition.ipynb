{
  "nbformat": 4,
  "nbformat_minor": 0,
  "metadata": {
    "colab": {
      "name": "PredictEmployeeAttrition.ipynb",
      "provenance": [],
      "collapsed_sections": [],
      "authorship_tag": "ABX9TyNnbsRs3bRtV/DK1bD5HIHB",
      "include_colab_link": true
    },
    "kernelspec": {
      "name": "python3",
      "display_name": "Python 3"
    },
    "language_info": {
      "name": "python"
    }
  },
  "cells": [
    {
      "cell_type": "markdown",
      "metadata": {
        "id": "view-in-github",
        "colab_type": "text"
      },
      "source": [
        "<a href=\"https://colab.research.google.com/github/oushnik23/PredictEmployeeAttrition_classification/blob/main/PredictEmployeeAttrition.ipynb\" target=\"_parent\"><img src=\"https://colab.research.google.com/assets/colab-badge.svg\" alt=\"Open In Colab\"/></a>"
      ]
    },
    {
      "cell_type": "code",
      "execution_count": 1,
      "metadata": {
        "id": "-hgWTXxNx9pF"
      },
      "outputs": [],
      "source": [
        "import pandas as pd\n",
        "import numpy as np\n",
        "import matplotlib.pyplot as plt\n",
        "import seaborn as sns\n",
        "import warnings\n",
        "warnings.filterwarnings(\"ignore\")"
      ]
    },
    {
      "cell_type": "code",
      "source": [
        "dataset=pd.read_csv(\"train.csv\")\n",
        "dataset.head()"
      ],
      "metadata": {
        "colab": {
          "base_uri": "https://localhost:8080/",
          "height": 270
        },
        "id": "LESfB1hvyZn7",
        "outputId": "d1cb48bd-2f4e-4e7e-a550-d5a1e06c454c"
      },
      "execution_count": 2,
      "outputs": [
        {
          "output_type": "execute_result",
          "data": {
            "text/plain": [
              "   satisfaction_level  last_evaluation_rating  projects_worked_on  \\\n",
              "0                 3.8                     5.3                   3   \n",
              "1                 8.0                     8.6                   6   \n",
              "2                 1.1                     8.8                   8   \n",
              "3                 3.7                     5.2                   3   \n",
              "4                 4.1                     5.0                   3   \n",
              "\n",
              "   average_montly_hours  time_spend_company  Work_accident  \\\n",
              "0                   167                   3              0   \n",
              "1                   272                   6              0   \n",
              "2                   282                   4              0   \n",
              "3                   169                   3              0   \n",
              "4                   163                   3              0   \n",
              "\n",
              "   promotion_last_5years Department  salary  Attrition  \n",
              "0                      0      sales     low          1  \n",
              "1                      0      sales  medium          1  \n",
              "2                      0      sales  medium          1  \n",
              "3                      0      sales     low          1  \n",
              "4                      0      sales     low          1  "
            ],
            "text/html": [
              "\n",
              "  <div id=\"df-29ac2102-03f5-447d-b33b-6cae2ef368a2\">\n",
              "    <div class=\"colab-df-container\">\n",
              "      <div>\n",
              "<style scoped>\n",
              "    .dataframe tbody tr th:only-of-type {\n",
              "        vertical-align: middle;\n",
              "    }\n",
              "\n",
              "    .dataframe tbody tr th {\n",
              "        vertical-align: top;\n",
              "    }\n",
              "\n",
              "    .dataframe thead th {\n",
              "        text-align: right;\n",
              "    }\n",
              "</style>\n",
              "<table border=\"1\" class=\"dataframe\">\n",
              "  <thead>\n",
              "    <tr style=\"text-align: right;\">\n",
              "      <th></th>\n",
              "      <th>satisfaction_level</th>\n",
              "      <th>last_evaluation_rating</th>\n",
              "      <th>projects_worked_on</th>\n",
              "      <th>average_montly_hours</th>\n",
              "      <th>time_spend_company</th>\n",
              "      <th>Work_accident</th>\n",
              "      <th>promotion_last_5years</th>\n",
              "      <th>Department</th>\n",
              "      <th>salary</th>\n",
              "      <th>Attrition</th>\n",
              "    </tr>\n",
              "  </thead>\n",
              "  <tbody>\n",
              "    <tr>\n",
              "      <th>0</th>\n",
              "      <td>3.8</td>\n",
              "      <td>5.3</td>\n",
              "      <td>3</td>\n",
              "      <td>167</td>\n",
              "      <td>3</td>\n",
              "      <td>0</td>\n",
              "      <td>0</td>\n",
              "      <td>sales</td>\n",
              "      <td>low</td>\n",
              "      <td>1</td>\n",
              "    </tr>\n",
              "    <tr>\n",
              "      <th>1</th>\n",
              "      <td>8.0</td>\n",
              "      <td>8.6</td>\n",
              "      <td>6</td>\n",
              "      <td>272</td>\n",
              "      <td>6</td>\n",
              "      <td>0</td>\n",
              "      <td>0</td>\n",
              "      <td>sales</td>\n",
              "      <td>medium</td>\n",
              "      <td>1</td>\n",
              "    </tr>\n",
              "    <tr>\n",
              "      <th>2</th>\n",
              "      <td>1.1</td>\n",
              "      <td>8.8</td>\n",
              "      <td>8</td>\n",
              "      <td>282</td>\n",
              "      <td>4</td>\n",
              "      <td>0</td>\n",
              "      <td>0</td>\n",
              "      <td>sales</td>\n",
              "      <td>medium</td>\n",
              "      <td>1</td>\n",
              "    </tr>\n",
              "    <tr>\n",
              "      <th>3</th>\n",
              "      <td>3.7</td>\n",
              "      <td>5.2</td>\n",
              "      <td>3</td>\n",
              "      <td>169</td>\n",
              "      <td>3</td>\n",
              "      <td>0</td>\n",
              "      <td>0</td>\n",
              "      <td>sales</td>\n",
              "      <td>low</td>\n",
              "      <td>1</td>\n",
              "    </tr>\n",
              "    <tr>\n",
              "      <th>4</th>\n",
              "      <td>4.1</td>\n",
              "      <td>5.0</td>\n",
              "      <td>3</td>\n",
              "      <td>163</td>\n",
              "      <td>3</td>\n",
              "      <td>0</td>\n",
              "      <td>0</td>\n",
              "      <td>sales</td>\n",
              "      <td>low</td>\n",
              "      <td>1</td>\n",
              "    </tr>\n",
              "  </tbody>\n",
              "</table>\n",
              "</div>\n",
              "      <button class=\"colab-df-convert\" onclick=\"convertToInteractive('df-29ac2102-03f5-447d-b33b-6cae2ef368a2')\"\n",
              "              title=\"Convert this dataframe to an interactive table.\"\n",
              "              style=\"display:none;\">\n",
              "        \n",
              "  <svg xmlns=\"http://www.w3.org/2000/svg\" height=\"24px\"viewBox=\"0 0 24 24\"\n",
              "       width=\"24px\">\n",
              "    <path d=\"M0 0h24v24H0V0z\" fill=\"none\"/>\n",
              "    <path d=\"M18.56 5.44l.94 2.06.94-2.06 2.06-.94-2.06-.94-.94-2.06-.94 2.06-2.06.94zm-11 1L8.5 8.5l.94-2.06 2.06-.94-2.06-.94L8.5 2.5l-.94 2.06-2.06.94zm10 10l.94 2.06.94-2.06 2.06-.94-2.06-.94-.94-2.06-.94 2.06-2.06.94z\"/><path d=\"M17.41 7.96l-1.37-1.37c-.4-.4-.92-.59-1.43-.59-.52 0-1.04.2-1.43.59L10.3 9.45l-7.72 7.72c-.78.78-.78 2.05 0 2.83L4 21.41c.39.39.9.59 1.41.59.51 0 1.02-.2 1.41-.59l7.78-7.78 2.81-2.81c.8-.78.8-2.07 0-2.86zM5.41 20L4 18.59l7.72-7.72 1.47 1.35L5.41 20z\"/>\n",
              "  </svg>\n",
              "      </button>\n",
              "      \n",
              "  <style>\n",
              "    .colab-df-container {\n",
              "      display:flex;\n",
              "      flex-wrap:wrap;\n",
              "      gap: 12px;\n",
              "    }\n",
              "\n",
              "    .colab-df-convert {\n",
              "      background-color: #E8F0FE;\n",
              "      border: none;\n",
              "      border-radius: 50%;\n",
              "      cursor: pointer;\n",
              "      display: none;\n",
              "      fill: #1967D2;\n",
              "      height: 32px;\n",
              "      padding: 0 0 0 0;\n",
              "      width: 32px;\n",
              "    }\n",
              "\n",
              "    .colab-df-convert:hover {\n",
              "      background-color: #E2EBFA;\n",
              "      box-shadow: 0px 1px 2px rgba(60, 64, 67, 0.3), 0px 1px 3px 1px rgba(60, 64, 67, 0.15);\n",
              "      fill: #174EA6;\n",
              "    }\n",
              "\n",
              "    [theme=dark] .colab-df-convert {\n",
              "      background-color: #3B4455;\n",
              "      fill: #D2E3FC;\n",
              "    }\n",
              "\n",
              "    [theme=dark] .colab-df-convert:hover {\n",
              "      background-color: #434B5C;\n",
              "      box-shadow: 0px 1px 3px 1px rgba(0, 0, 0, 0.15);\n",
              "      filter: drop-shadow(0px 1px 2px rgba(0, 0, 0, 0.3));\n",
              "      fill: #FFFFFF;\n",
              "    }\n",
              "  </style>\n",
              "\n",
              "      <script>\n",
              "        const buttonEl =\n",
              "          document.querySelector('#df-29ac2102-03f5-447d-b33b-6cae2ef368a2 button.colab-df-convert');\n",
              "        buttonEl.style.display =\n",
              "          google.colab.kernel.accessAllowed ? 'block' : 'none';\n",
              "\n",
              "        async function convertToInteractive(key) {\n",
              "          const element = document.querySelector('#df-29ac2102-03f5-447d-b33b-6cae2ef368a2');\n",
              "          const dataTable =\n",
              "            await google.colab.kernel.invokeFunction('convertToInteractive',\n",
              "                                                     [key], {});\n",
              "          if (!dataTable) return;\n",
              "\n",
              "          const docLinkHtml = 'Like what you see? Visit the ' +\n",
              "            '<a target=\"_blank\" href=https://colab.research.google.com/notebooks/data_table.ipynb>data table notebook</a>'\n",
              "            + ' to learn more about interactive tables.';\n",
              "          element.innerHTML = '';\n",
              "          dataTable['output_type'] = 'display_data';\n",
              "          await google.colab.output.renderOutput(dataTable, element);\n",
              "          const docLink = document.createElement('div');\n",
              "          docLink.innerHTML = docLinkHtml;\n",
              "          element.appendChild(docLink);\n",
              "        }\n",
              "      </script>\n",
              "    </div>\n",
              "  </div>\n",
              "  "
            ]
          },
          "metadata": {},
          "execution_count": 2
        }
      ]
    },
    {
      "cell_type": "code",
      "source": [
        "dataset.isnull().sum().sort_values(ascending=False)"
      ],
      "metadata": {
        "colab": {
          "base_uri": "https://localhost:8080/"
        },
        "id": "0dpyel_9zBVU",
        "outputId": "b6762264-d59a-4b9f-d75b-9eb5a1a49c41"
      },
      "execution_count": 3,
      "outputs": [
        {
          "output_type": "execute_result",
          "data": {
            "text/plain": [
              "satisfaction_level        0\n",
              "last_evaluation_rating    0\n",
              "projects_worked_on        0\n",
              "average_montly_hours      0\n",
              "time_spend_company        0\n",
              "Work_accident             0\n",
              "promotion_last_5years     0\n",
              "Department                0\n",
              "salary                    0\n",
              "Attrition                 0\n",
              "dtype: int64"
            ]
          },
          "metadata": {},
          "execution_count": 3
        }
      ]
    },
    {
      "cell_type": "code",
      "source": [
        "dataset.info()"
      ],
      "metadata": {
        "colab": {
          "base_uri": "https://localhost:8080/"
        },
        "id": "AsoDADfozL1e",
        "outputId": "83f9b7c1-2a09-4d93-df48-b27ece21b67c"
      },
      "execution_count": 4,
      "outputs": [
        {
          "output_type": "stream",
          "name": "stdout",
          "text": [
            "<class 'pandas.core.frame.DataFrame'>\n",
            "RangeIndex: 25491 entries, 0 to 25490\n",
            "Data columns (total 10 columns):\n",
            " #   Column                  Non-Null Count  Dtype  \n",
            "---  ------                  --------------  -----  \n",
            " 0   satisfaction_level      25491 non-null  float64\n",
            " 1   last_evaluation_rating  25491 non-null  float64\n",
            " 2   projects_worked_on      25491 non-null  int64  \n",
            " 3   average_montly_hours    25491 non-null  int64  \n",
            " 4   time_spend_company      25491 non-null  int64  \n",
            " 5   Work_accident           25491 non-null  int64  \n",
            " 6   promotion_last_5years   25491 non-null  int64  \n",
            " 7   Department              25491 non-null  object \n",
            " 8   salary                  25491 non-null  object \n",
            " 9   Attrition               25491 non-null  int64  \n",
            "dtypes: float64(2), int64(6), object(2)\n",
            "memory usage: 1.9+ MB\n"
          ]
        }
      ]
    },
    {
      "cell_type": "code",
      "source": [
        "dataset.describe().T"
      ],
      "metadata": {
        "colab": {
          "base_uri": "https://localhost:8080/",
          "height": 300
        },
        "id": "xSTKm0BOzODa",
        "outputId": "31321497-13f4-47ae-823c-0dc55b4cda1b"
      },
      "execution_count": 5,
      "outputs": [
        {
          "output_type": "execute_result",
          "data": {
            "text/plain": [
              "                          count        mean        std   min    25%    50%  \\\n",
              "satisfaction_level      25491.0    6.137704   2.486316   0.9    4.4    6.5   \n",
              "last_evaluation_rating  25491.0    7.167832   1.710754   3.6    5.6    7.2   \n",
              "projects_worked_on      25491.0    4.215174   1.324228   2.0    3.0    4.0   \n",
              "average_montly_hours    25491.0  205.286846  50.182916  96.0  160.0  204.0   \n",
              "time_spend_company      25491.0    3.497156   1.457715   2.0    3.0    3.0   \n",
              "Work_accident           25491.0    0.146012   0.353125   0.0    0.0    0.0   \n",
              "promotion_last_5years   25491.0    0.021419   0.144780   0.0    0.0    0.0   \n",
              "Attrition               25491.0    0.234985   0.423998   0.0    0.0    0.0   \n",
              "\n",
              "                          75%    max  \n",
              "satisfaction_level        8.2   10.0  \n",
              "last_evaluation_rating    8.7   10.0  \n",
              "projects_worked_on        5.0    8.0  \n",
              "average_montly_hours    249.0  320.0  \n",
              "time_spend_company        4.0   10.0  \n",
              "Work_accident             0.0    1.0  \n",
              "promotion_last_5years     0.0    1.0  \n",
              "Attrition                 0.0    1.0  "
            ],
            "text/html": [
              "\n",
              "  <div id=\"df-84145133-0820-4f17-978d-d58d6fb0f812\">\n",
              "    <div class=\"colab-df-container\">\n",
              "      <div>\n",
              "<style scoped>\n",
              "    .dataframe tbody tr th:only-of-type {\n",
              "        vertical-align: middle;\n",
              "    }\n",
              "\n",
              "    .dataframe tbody tr th {\n",
              "        vertical-align: top;\n",
              "    }\n",
              "\n",
              "    .dataframe thead th {\n",
              "        text-align: right;\n",
              "    }\n",
              "</style>\n",
              "<table border=\"1\" class=\"dataframe\">\n",
              "  <thead>\n",
              "    <tr style=\"text-align: right;\">\n",
              "      <th></th>\n",
              "      <th>count</th>\n",
              "      <th>mean</th>\n",
              "      <th>std</th>\n",
              "      <th>min</th>\n",
              "      <th>25%</th>\n",
              "      <th>50%</th>\n",
              "      <th>75%</th>\n",
              "      <th>max</th>\n",
              "    </tr>\n",
              "  </thead>\n",
              "  <tbody>\n",
              "    <tr>\n",
              "      <th>satisfaction_level</th>\n",
              "      <td>25491.0</td>\n",
              "      <td>6.137704</td>\n",
              "      <td>2.486316</td>\n",
              "      <td>0.9</td>\n",
              "      <td>4.4</td>\n",
              "      <td>6.5</td>\n",
              "      <td>8.2</td>\n",
              "      <td>10.0</td>\n",
              "    </tr>\n",
              "    <tr>\n",
              "      <th>last_evaluation_rating</th>\n",
              "      <td>25491.0</td>\n",
              "      <td>7.167832</td>\n",
              "      <td>1.710754</td>\n",
              "      <td>3.6</td>\n",
              "      <td>5.6</td>\n",
              "      <td>7.2</td>\n",
              "      <td>8.7</td>\n",
              "      <td>10.0</td>\n",
              "    </tr>\n",
              "    <tr>\n",
              "      <th>projects_worked_on</th>\n",
              "      <td>25491.0</td>\n",
              "      <td>4.215174</td>\n",
              "      <td>1.324228</td>\n",
              "      <td>2.0</td>\n",
              "      <td>3.0</td>\n",
              "      <td>4.0</td>\n",
              "      <td>5.0</td>\n",
              "      <td>8.0</td>\n",
              "    </tr>\n",
              "    <tr>\n",
              "      <th>average_montly_hours</th>\n",
              "      <td>25491.0</td>\n",
              "      <td>205.286846</td>\n",
              "      <td>50.182916</td>\n",
              "      <td>96.0</td>\n",
              "      <td>160.0</td>\n",
              "      <td>204.0</td>\n",
              "      <td>249.0</td>\n",
              "      <td>320.0</td>\n",
              "    </tr>\n",
              "    <tr>\n",
              "      <th>time_spend_company</th>\n",
              "      <td>25491.0</td>\n",
              "      <td>3.497156</td>\n",
              "      <td>1.457715</td>\n",
              "      <td>2.0</td>\n",
              "      <td>3.0</td>\n",
              "      <td>3.0</td>\n",
              "      <td>4.0</td>\n",
              "      <td>10.0</td>\n",
              "    </tr>\n",
              "    <tr>\n",
              "      <th>Work_accident</th>\n",
              "      <td>25491.0</td>\n",
              "      <td>0.146012</td>\n",
              "      <td>0.353125</td>\n",
              "      <td>0.0</td>\n",
              "      <td>0.0</td>\n",
              "      <td>0.0</td>\n",
              "      <td>0.0</td>\n",
              "      <td>1.0</td>\n",
              "    </tr>\n",
              "    <tr>\n",
              "      <th>promotion_last_5years</th>\n",
              "      <td>25491.0</td>\n",
              "      <td>0.021419</td>\n",
              "      <td>0.144780</td>\n",
              "      <td>0.0</td>\n",
              "      <td>0.0</td>\n",
              "      <td>0.0</td>\n",
              "      <td>0.0</td>\n",
              "      <td>1.0</td>\n",
              "    </tr>\n",
              "    <tr>\n",
              "      <th>Attrition</th>\n",
              "      <td>25491.0</td>\n",
              "      <td>0.234985</td>\n",
              "      <td>0.423998</td>\n",
              "      <td>0.0</td>\n",
              "      <td>0.0</td>\n",
              "      <td>0.0</td>\n",
              "      <td>0.0</td>\n",
              "      <td>1.0</td>\n",
              "    </tr>\n",
              "  </tbody>\n",
              "</table>\n",
              "</div>\n",
              "      <button class=\"colab-df-convert\" onclick=\"convertToInteractive('df-84145133-0820-4f17-978d-d58d6fb0f812')\"\n",
              "              title=\"Convert this dataframe to an interactive table.\"\n",
              "              style=\"display:none;\">\n",
              "        \n",
              "  <svg xmlns=\"http://www.w3.org/2000/svg\" height=\"24px\"viewBox=\"0 0 24 24\"\n",
              "       width=\"24px\">\n",
              "    <path d=\"M0 0h24v24H0V0z\" fill=\"none\"/>\n",
              "    <path d=\"M18.56 5.44l.94 2.06.94-2.06 2.06-.94-2.06-.94-.94-2.06-.94 2.06-2.06.94zm-11 1L8.5 8.5l.94-2.06 2.06-.94-2.06-.94L8.5 2.5l-.94 2.06-2.06.94zm10 10l.94 2.06.94-2.06 2.06-.94-2.06-.94-.94-2.06-.94 2.06-2.06.94z\"/><path d=\"M17.41 7.96l-1.37-1.37c-.4-.4-.92-.59-1.43-.59-.52 0-1.04.2-1.43.59L10.3 9.45l-7.72 7.72c-.78.78-.78 2.05 0 2.83L4 21.41c.39.39.9.59 1.41.59.51 0 1.02-.2 1.41-.59l7.78-7.78 2.81-2.81c.8-.78.8-2.07 0-2.86zM5.41 20L4 18.59l7.72-7.72 1.47 1.35L5.41 20z\"/>\n",
              "  </svg>\n",
              "      </button>\n",
              "      \n",
              "  <style>\n",
              "    .colab-df-container {\n",
              "      display:flex;\n",
              "      flex-wrap:wrap;\n",
              "      gap: 12px;\n",
              "    }\n",
              "\n",
              "    .colab-df-convert {\n",
              "      background-color: #E8F0FE;\n",
              "      border: none;\n",
              "      border-radius: 50%;\n",
              "      cursor: pointer;\n",
              "      display: none;\n",
              "      fill: #1967D2;\n",
              "      height: 32px;\n",
              "      padding: 0 0 0 0;\n",
              "      width: 32px;\n",
              "    }\n",
              "\n",
              "    .colab-df-convert:hover {\n",
              "      background-color: #E2EBFA;\n",
              "      box-shadow: 0px 1px 2px rgba(60, 64, 67, 0.3), 0px 1px 3px 1px rgba(60, 64, 67, 0.15);\n",
              "      fill: #174EA6;\n",
              "    }\n",
              "\n",
              "    [theme=dark] .colab-df-convert {\n",
              "      background-color: #3B4455;\n",
              "      fill: #D2E3FC;\n",
              "    }\n",
              "\n",
              "    [theme=dark] .colab-df-convert:hover {\n",
              "      background-color: #434B5C;\n",
              "      box-shadow: 0px 1px 3px 1px rgba(0, 0, 0, 0.15);\n",
              "      filter: drop-shadow(0px 1px 2px rgba(0, 0, 0, 0.3));\n",
              "      fill: #FFFFFF;\n",
              "    }\n",
              "  </style>\n",
              "\n",
              "      <script>\n",
              "        const buttonEl =\n",
              "          document.querySelector('#df-84145133-0820-4f17-978d-d58d6fb0f812 button.colab-df-convert');\n",
              "        buttonEl.style.display =\n",
              "          google.colab.kernel.accessAllowed ? 'block' : 'none';\n",
              "\n",
              "        async function convertToInteractive(key) {\n",
              "          const element = document.querySelector('#df-84145133-0820-4f17-978d-d58d6fb0f812');\n",
              "          const dataTable =\n",
              "            await google.colab.kernel.invokeFunction('convertToInteractive',\n",
              "                                                     [key], {});\n",
              "          if (!dataTable) return;\n",
              "\n",
              "          const docLinkHtml = 'Like what you see? Visit the ' +\n",
              "            '<a target=\"_blank\" href=https://colab.research.google.com/notebooks/data_table.ipynb>data table notebook</a>'\n",
              "            + ' to learn more about interactive tables.';\n",
              "          element.innerHTML = '';\n",
              "          dataTable['output_type'] = 'display_data';\n",
              "          await google.colab.output.renderOutput(dataTable, element);\n",
              "          const docLink = document.createElement('div');\n",
              "          docLink.innerHTML = docLinkHtml;\n",
              "          element.appendChild(docLink);\n",
              "        }\n",
              "      </script>\n",
              "    </div>\n",
              "  </div>\n",
              "  "
            ]
          },
          "metadata": {},
          "execution_count": 5
        }
      ]
    },
    {
      "cell_type": "code",
      "source": [
        "dataset.Department.value_counts()"
      ],
      "metadata": {
        "colab": {
          "base_uri": "https://localhost:8080/"
        },
        "id": "A1uHNjxezWcy",
        "outputId": "5f046e52-8b8b-4fc2-c300-daede47e7598"
      },
      "execution_count": 6,
      "outputs": [
        {
          "output_type": "execute_result",
          "data": {
            "text/plain": [
              "sales          6973\n",
              "technical      4661\n",
              "support        3801\n",
              "IT             2108\n",
              "product_mng    1514\n",
              "marketing      1455\n",
              "RandD          1335\n",
              "accounting     1316\n",
              "hr             1261\n",
              "management     1067\n",
              "Name: Department, dtype: int64"
            ]
          },
          "metadata": {},
          "execution_count": 6
        }
      ]
    },
    {
      "cell_type": "code",
      "source": [
        "plt.figure(figsize=(11,7))\n",
        "sns.heatmap(dataset.corr(),cmap='Greens')"
      ],
      "metadata": {
        "colab": {
          "base_uri": "https://localhost:8080/",
          "height": 554
        },
        "id": "ZwW843VQzoZ8",
        "outputId": "2806648d-1409-472e-bc74-a1365b4da7ac"
      },
      "execution_count": 7,
      "outputs": [
        {
          "output_type": "execute_result",
          "data": {
            "text/plain": [
              "<matplotlib.axes._subplots.AxesSubplot at 0x7f0e2e4f7b10>"
            ]
          },
          "metadata": {},
          "execution_count": 7
        },
        {
          "output_type": "display_data",
          "data": {
            "text/plain": [
              "<Figure size 792x504 with 2 Axes>"
            ],
            "image/png": "[encoded data removed]"
          },
          "metadata": {
            "needs_background": "light"
          }
        }
      ]
    },
    {
      "cell_type": "code",
      "source": [
        "cat=(dataset.dtypes=='object')\n",
        "cat_col=list(cat[cat].index)\n",
        "print(cat_col)"
      ],
      "metadata": {
        "colab": {
          "base_uri": "https://localhost:8080/"
        },
        "id": "Z_BNxxUJ0hOb",
        "outputId": "f46c65dc-66a8-4894-f70c-fac8dbc8b1ca"
      },
      "execution_count": 8,
      "outputs": [
        {
          "output_type": "stream",
          "name": "stdout",
          "text": [
            "['Department', 'salary']\n"
          ]
        }
      ]
    },
    {
      "cell_type": "code",
      "source": [
        "cat=dataset[['Department','salary']]\n",
        "plt.figure(figsize=(11,6))\n",
        "for i in cat:\n",
        "  sns.countplot(dataset[i])\n",
        "  plt.show()\n",
        "  "
      ],
      "metadata": {
        "colab": {
          "base_uri": "https://localhost:8080/",
          "height": 651
        },
        "id": "6CCN8BU-0OvG",
        "outputId": "bab1ffd7-f7ad-411b-fda2-55a926bcb7e0"
      },
      "execution_count": 9,
      "outputs": [
        {
          "output_type": "display_data",
          "data": {
            "text/plain": [
              "<Figure size 792x432 with 1 Axes>"
            ],
            "image/png": "[encoded data removed]"
          },
          "metadata": {
            "needs_background": "light"
          }
        },
        {
          "output_type": "display_data",
          "data": {
            "text/plain": [
              "<Figure size 432x288 with 1 Axes>"
            ],
            "image/png": "[encoded data removed]"
          },
          "metadata": {
            "needs_background": "light"
          }
        }
      ]
    },
    {
      "cell_type": "markdown",
      "source": [
        "**Bar chart for employee salary level and the frequency of turnover**"
      ],
      "metadata": {
        "id": "OxTrGuDP35mF"
      }
    },
    {
      "cell_type": "code",
      "source": [
        "table=pd.crosstab(dataset.salary, dataset.Attrition)\n",
        "table.div(table.sum(1).astype(float), axis=0).plot(kind='bar', stacked=True)\n",
        "plt.title('Stacked Bar Chart of Salary Level vs Turnover')\n",
        "plt.xlabel('Salary Level')\n",
        "plt.ylabel('Proportion of Employees')\n",
        "plt.savefig('salary_bar_chart')"
      ],
      "metadata": {
        "colab": {
          "base_uri": "https://localhost:8080/",
          "height": 326
        },
        "id": "eqAa_FRJ1qVL",
        "outputId": "aff5a17a-26e8-48c2-820d-07d73b522c98"
      },
      "execution_count": 10,
      "outputs": [
        {
          "output_type": "display_data",
          "data": {
            "text/plain": [
              "<Figure size 432x288 with 1 Axes>"
            ],
            "image/png": "[encoded data removed]"
          },
          "metadata": {
            "needs_background": "light"
          }
        }
      ]
    },
    {
      "cell_type": "markdown",
      "source": [
        "\n",
        "**Bar chart for department employee work for and the frequency of turnover**"
      ],
      "metadata": {
        "id": "oDnpclvI3H5M"
      }
    },
    {
      "cell_type": "code",
      "source": [
        "pd.crosstab(dataset['Department'],dataset['Attrition']).plot(kind='bar')\n",
        "plt.title('Turnover Frequency for Department')\n",
        "plt.xlabel('Department')\n",
        "plt.ylabel('Frequency of Turnover')\n",
        "plt.savefig('department_bar_chart')"
      ],
      "metadata": {
        "colab": {
          "base_uri": "https://localhost:8080/",
          "height": 352
        },
        "id": "s8xDGsRX0KBB",
        "outputId": "c070b619-b710-4b89-fcf4-4b0f92ade34d"
      },
      "execution_count": 11,
      "outputs": [
        {
          "output_type": "display_data",
          "data": {
            "text/plain": [
              "<Figure size 432x288 with 1 Axes>"
            ],
            "image/png": "[encoded data removed]"
          },
          "metadata": {
            "needs_background": "light"
          }
        }
      ]
    },
    {
      "cell_type": "code",
      "source": [
        "num_bins=(dataset.dtypes!='object')\n",
        "num=list(num_bins[num_bins].index)\n",
        "print(num)"
      ],
      "metadata": {
        "colab": {
          "base_uri": "https://localhost:8080/"
        },
        "id": "62wzhiAo4wfX",
        "outputId": "a8bc56d7-26f1-4153-9ce1-97ad828f3c30"
      },
      "execution_count": 12,
      "outputs": [
        {
          "output_type": "stream",
          "name": "stdout",
          "text": [
            "['satisfaction_level', 'last_evaluation_rating', 'projects_worked_on', 'average_montly_hours', 'time_spend_company', 'Work_accident', 'promotion_last_5years', 'Attrition']\n"
          ]
        }
      ]
    },
    {
      "cell_type": "code",
      "source": [
        "num_bins=dataset[['satisfaction_level', 'last_evaluation_rating', 'projects_worked_on', 'average_montly_hours', 'time_spend_company', 'Work_accident', 'promotion_last_5years', 'Attrition']]"
      ],
      "metadata": {
        "id": "B08D2Wy45Cvi"
      },
      "execution_count": 13,
      "outputs": []
    },
    {
      "cell_type": "code",
      "source": [
        "num_bins = 10\n",
        "dataset.hist(bins=num_bins, figsize=(20,15))\n",
        "plt.savefig(\"hr_histogram_plots\")\n",
        "plt.show()"
      ],
      "metadata": {
        "colab": {
          "base_uri": "https://localhost:8080/",
          "height": 879
        },
        "id": "XktIJCgl4STy",
        "outputId": "07d052ba-e107-48cf-8fb7-1aa5790ea311"
      },
      "execution_count": 14,
      "outputs": [
        {
          "output_type": "display_data",
          "data": {
            "text/plain": [
              "<Figure size 1440x1080 with 9 Axes>"
            ],
            "image/png": "[encoded data removed]"
          },
          "metadata": {
            "needs_background": "light"
          }
        }
      ]
    },
    {
      "cell_type": "code",
      "source": [
        "x=dataset.drop(['Attrition'],axis=1)\n",
        "y=dataset[['Attrition']]"
      ],
      "metadata": {
        "id": "pyPhVcce60aw"
      },
      "execution_count": 15,
      "outputs": []
    },
    {
      "cell_type": "code",
      "source": [
        "x=pd.get_dummies(x)\n",
        "x.head()"
      ],
      "metadata": {
        "colab": {
          "base_uri": "https://localhost:8080/",
          "height": 270
        },
        "id": "1FhN5lXu7RyA",
        "outputId": "d8865f90-2bb4-4eea-f4fa-3b3686b14e14"
      },
      "execution_count": 16,
      "outputs": [
        {
          "output_type": "execute_result",
          "data": {
            "text/plain": [
              "   satisfaction_level  last_evaluation_rating  projects_worked_on  \\\n",
              "0                 3.8                     5.3                   3   \n",
              "1                 8.0                     8.6                   6   \n",
              "2                 1.1                     8.8                   8   \n",
              "3                 3.7                     5.2                   3   \n",
              "4                 4.1                     5.0                   3   \n",
              "\n",
              "   average_montly_hours  time_spend_company  Work_accident  \\\n",
              "0                   167                   3              0   \n",
              "1                   272                   6              0   \n",
              "2                   282                   4              0   \n",
              "3                   169                   3              0   \n",
              "4                   163                   3              0   \n",
              "\n",
              "   promotion_last_5years  Department_IT  Department_RandD  \\\n",
              "0                      0              0                 0   \n",
              "1                      0              0                 0   \n",
              "2                      0              0                 0   \n",
              "3                      0              0                 0   \n",
              "4                      0              0                 0   \n",
              "\n",
              "   Department_accounting  Department_hr  Department_management  \\\n",
              "0                      0              0                      0   \n",
              "1                      0              0                      0   \n",
              "2                      0              0                      0   \n",
              "3                      0              0                      0   \n",
              "4                      0              0                      0   \n",
              "\n",
              "   Department_marketing  Department_product_mng  Department_sales  \\\n",
              "0                     0                       0                 1   \n",
              "1                     0                       0                 1   \n",
              "2                     0                       0                 1   \n",
              "3                     0                       0                 1   \n",
              "4                     0                       0                 1   \n",
              "\n",
              "   Department_support  Department_technical  salary_high  salary_low  \\\n",
              "0                   0                     0            0           1   \n",
              "1                   0                     0            0           0   \n",
              "2                   0                     0            0           0   \n",
              "3                   0                     0            0           1   \n",
              "4                   0                     0            0           1   \n",
              "\n",
              "   salary_medium  \n",
              "0              0  \n",
              "1              1  \n",
              "2              1  \n",
              "3              0  \n",
              "4              0  "
            ],
            "text/html": [
              "\n",
              "  <div id=\"df-9a853271-ae76-4b3a-9e30-208212a809a1\">\n",
              "    <div class=\"colab-df-container\">\n",
              "      <div>\n",
              "<style scoped>\n",
              "    .dataframe tbody tr th:only-of-type {\n",
              "        vertical-align: middle;\n",
              "    }\n",
              "\n",
              "    .dataframe tbody tr th {\n",
              "        vertical-align: top;\n",
              "    }\n",
              "\n",
              "    .dataframe thead th {\n",
              "        text-align: right;\n",
              "    }\n",
              "</style>\n",
              "<table border=\"1\" class=\"dataframe\">\n",
              "  <thead>\n",
              "    <tr style=\"text-align: right;\">\n",
              "      <th></th>\n",
              "      <th>satisfaction_level</th>\n",
              "      <th>last_evaluation_rating</th>\n",
              "      <th>projects_worked_on</th>\n",
              "      <th>average_montly_hours</th>\n",
              "      <th>time_spend_company</th>\n",
              "      <th>Work_accident</th>\n",
              "      <th>promotion_last_5years</th>\n",
              "      <th>Department_IT</th>\n",
              "      <th>Department_RandD</th>\n",
              "      <th>Department_accounting</th>\n",
              "      <th>Department_hr</th>\n",
              "      <th>Department_management</th>\n",
              "      <th>Department_marketing</th>\n",
              "      <th>Department_product_mng</th>\n",
              "      <th>Department_sales</th>\n",
              "      <th>Department_support</th>\n",
              "      <th>Department_technical</th>\n",
              "      <th>salary_high</th>\n",
              "      <th>salary_low</th>\n",
              "      <th>salary_medium</th>\n",
              "    </tr>\n",
              "  </thead>\n",
              "  <tbody>\n",
              "    <tr>\n",
              "      <th>0</th>\n",
              "      <td>3.8</td>\n",
              "      <td>5.3</td>\n",
              "      <td>3</td>\n",
              "      <td>167</td>\n",
              "      <td>3</td>\n",
              "      <td>0</td>\n",
              "      <td>0</td>\n",
              "      <td>0</td>\n",
              "      <td>0</td>\n",
              "      <td>0</td>\n",
              "      <td>0</td>\n",
              "      <td>0</td>\n",
              "      <td>0</td>\n",
              "      <td>0</td>\n",
              "      <td>1</td>\n",
              "      <td>0</td>\n",
              "      <td>0</td>\n",
              "      <td>0</td>\n",
              "      <td>1</td>\n",
              "      <td>0</td>\n",
              "    </tr>\n",
              "    <tr>\n",
              "      <th>1</th>\n",
              "      <td>8.0</td>\n",
              "      <td>8.6</td>\n",
              "      <td>6</td>\n",
              "      <td>272</td>\n",
              "      <td>6</td>\n",
              "      <td>0</td>\n",
              "      <td>0</td>\n",
              "      <td>0</td>\n",
              "      <td>0</td>\n",
              "      <td>0</td>\n",
              "      <td>0</td>\n",
              "      <td>0</td>\n",
              "      <td>0</td>\n",
              "      <td>0</td>\n",
              "      <td>1</td>\n",
              "      <td>0</td>\n",
              "      <td>0</td>\n",
              "      <td>0</td>\n",
              "      <td>0</td>\n",
              "      <td>1</td>\n",
              "    </tr>\n",
              "    <tr>\n",
              "      <th>2</th>\n",
              "      <td>1.1</td>\n",
              "      <td>8.8</td>\n",
              "      <td>8</td>\n",
              "      <td>282</td>\n",
              "      <td>4</td>\n",
              "      <td>0</td>\n",
              "      <td>0</td>\n",
              "      <td>0</td>\n",
              "      <td>0</td>\n",
              "      <td>0</td>\n",
              "      <td>0</td>\n",
              "      <td>0</td>\n",
              "      <td>0</td>\n",
              "      <td>0</td>\n",
              "      <td>1</td>\n",
              "      <td>0</td>\n",
              "      <td>0</td>\n",
              "      <td>0</td>\n",
              "      <td>0</td>\n",
              "      <td>1</td>\n",
              "    </tr>\n",
              "    <tr>\n",
              "      <th>3</th>\n",
              "      <td>3.7</td>\n",
              "      <td>5.2</td>\n",
              "      <td>3</td>\n",
              "      <td>169</td>\n",
              "      <td>3</td>\n",
              "      <td>0</td>\n",
              "      <td>0</td>\n",
              "      <td>0</td>\n",
              "      <td>0</td>\n",
              "      <td>0</td>\n",
              "      <td>0</td>\n",
              "      <td>0</td>\n",
              "      <td>0</td>\n",
              "      <td>0</td>\n",
              "      <td>1</td>\n",
              "      <td>0</td>\n",
              "      <td>0</td>\n",
              "      <td>0</td>\n",
              "      <td>1</td>\n",
              "      <td>0</td>\n",
              "    </tr>\n",
              "    <tr>\n",
              "      <th>4</th>\n",
              "      <td>4.1</td>\n",
              "      <td>5.0</td>\n",
              "      <td>3</td>\n",
              "      <td>163</td>\n",
              "      <td>3</td>\n",
              "      <td>0</td>\n",
              "      <td>0</td>\n",
              "      <td>0</td>\n",
              "      <td>0</td>\n",
              "      <td>0</td>\n",
              "      <td>0</td>\n",
              "      <td>0</td>\n",
              "      <td>0</td>\n",
              "      <td>0</td>\n",
              "      <td>1</td>\n",
              "      <td>0</td>\n",
              "      <td>0</td>\n",
              "      <td>0</td>\n",
              "      <td>1</td>\n",
              "      <td>0</td>\n",
              "    </tr>\n",
              "  </tbody>\n",
              "</table>\n",
              "</div>\n",
              "      <button class=\"colab-df-convert\" onclick=\"convertToInteractive('df-9a853271-ae76-4b3a-9e30-208212a809a1')\"\n",
              "              title=\"Convert this dataframe to an interactive table.\"\n",
              "              style=\"display:none;\">\n",
              "        \n",
              "  <svg xmlns=\"http://www.w3.org/2000/svg\" height=\"24px\"viewBox=\"0 0 24 24\"\n",
              "       width=\"24px\">\n",
              "    <path d=\"M0 0h24v24H0V0z\" fill=\"none\"/>\n",
              "    <path d=\"M18.56 5.44l.94 2.06.94-2.06 2.06-.94-2.06-.94-.94-2.06-.94 2.06-2.06.94zm-11 1L8.5 8.5l.94-2.06 2.06-.94-2.06-.94L8.5 2.5l-.94 2.06-2.06.94zm10 10l.94 2.06.94-2.06 2.06-.94-2.06-.94-.94-2.06-.94 2.06-2.06.94z\"/><path d=\"M17.41 7.96l-1.37-1.37c-.4-.4-.92-.59-1.43-.59-.52 0-1.04.2-1.43.59L10.3 9.45l-7.72 7.72c-.78.78-.78 2.05 0 2.83L4 21.41c.39.39.9.59 1.41.59.51 0 1.02-.2 1.41-.59l7.78-7.78 2.81-2.81c.8-.78.8-2.07 0-2.86zM5.41 20L4 18.59l7.72-7.72 1.47 1.35L5.41 20z\"/>\n",
              "  </svg>\n",
              "      </button>\n",
              "      \n",
              "  <style>\n",
              "    .colab-df-container {\n",
              "      display:flex;\n",
              "      flex-wrap:wrap;\n",
              "      gap: 12px;\n",
              "    }\n",
              "\n",
              "    .colab-df-convert {\n",
              "      background-color: #E8F0FE;\n",
              "      border: none;\n",
              "      border-radius: 50%;\n",
              "      cursor: pointer;\n",
              "      display: none;\n",
              "      fill: #1967D2;\n",
              "      height: 32px;\n",
              "      padding: 0 0 0 0;\n",
              "      width: 32px;\n",
              "    }\n",
              "\n",
              "    .colab-df-convert:hover {\n",
              "      background-color: #E2EBFA;\n",
              "      box-shadow: 0px 1px 2px rgba(60, 64, 67, 0.3), 0px 1px 3px 1px rgba(60, 64, 67, 0.15);\n",
              "      fill: #174EA6;\n",
              "    }\n",
              "\n",
              "    [theme=dark] .colab-df-convert {\n",
              "      background-color: #3B4455;\n",
              "      fill: #D2E3FC;\n",
              "    }\n",
              "\n",
              "    [theme=dark] .colab-df-convert:hover {\n",
              "      background-color: #434B5C;\n",
              "      box-shadow: 0px 1px 3px 1px rgba(0, 0, 0, 0.15);\n",
              "      filter: drop-shadow(0px 1px 2px rgba(0, 0, 0, 0.3));\n",
              "      fill: #FFFFFF;\n",
              "    }\n",
              "  </style>\n",
              "\n",
              "      <script>\n",
              "        const buttonEl =\n",
              "          document.querySelector('#df-9a853271-ae76-4b3a-9e30-208212a809a1 button.colab-df-convert');\n",
              "        buttonEl.style.display =\n",
              "          google.colab.kernel.accessAllowed ? 'block' : 'none';\n",
              "\n",
              "        async function convertToInteractive(key) {\n",
              "          const element = document.querySelector('#df-9a853271-ae76-4b3a-9e30-208212a809a1');\n",
              "          const dataTable =\n",
              "            await google.colab.kernel.invokeFunction('convertToInteractive',\n",
              "                                                     [key], {});\n",
              "          if (!dataTable) return;\n",
              "\n",
              "          const docLinkHtml = 'Like what you see? Visit the ' +\n",
              "            '<a target=\"_blank\" href=https://colab.research.google.com/notebooks/data_table.ipynb>data table notebook</a>'\n",
              "            + ' to learn more about interactive tables.';\n",
              "          element.innerHTML = '';\n",
              "          dataTable['output_type'] = 'display_data';\n",
              "          await google.colab.output.renderOutput(dataTable, element);\n",
              "          const docLink = document.createElement('div');\n",
              "          docLink.innerHTML = docLinkHtml;\n",
              "          element.appendChild(docLink);\n",
              "        }\n",
              "      </script>\n",
              "    </div>\n",
              "  </div>\n",
              "  "
            ]
          },
          "metadata": {},
          "execution_count": 16
        }
      ]
    },
    {
      "cell_type": "code",
      "source": [
        "from sklearn.model_selection import train_test_split\n",
        "xtrain,xtest,ytrain,ytest=train_test_split(x,y,test_size=.2)"
      ],
      "metadata": {
        "id": "tPWgNZ9W6pIN"
      },
      "execution_count": 17,
      "outputs": []
    },
    {
      "cell_type": "code",
      "source": [
        "from sklearn.linear_model import LogisticRegression\n",
        "lr_model=LogisticRegression()\n",
        "lr_model.fit(xtrain,ytrain)"
      ],
      "metadata": {
        "colab": {
          "base_uri": "https://localhost:8080/"
        },
        "id": "wFauXNm97BR3",
        "outputId": "c989e99a-d9be-414c-a72d-67e613991f48"
      },
      "execution_count": 18,
      "outputs": [
        {
          "output_type": "execute_result",
          "data": {
            "text/plain": [
              "LogisticRegression()"
            ]
          },
          "metadata": {},
          "execution_count": 18
        }
      ]
    },
    {
      "cell_type": "code",
      "source": [
        "y_pred=lr_model.predict(xtest)"
      ],
      "metadata": {
        "id": "GOVh699k7Y6k"
      },
      "execution_count": 19,
      "outputs": []
    },
    {
      "cell_type": "code",
      "source": [
        "from sklearn.metrics import accuracy_score, plot_confusion_matrix, classification_report"
      ],
      "metadata": {
        "id": "prTADxug7ghj"
      },
      "execution_count": 20,
      "outputs": []
    },
    {
      "cell_type": "code",
      "source": [
        "print(\"score is {:.2f}%\".format(accuracy_score(ytest,y_pred)*100))"
      ],
      "metadata": {
        "colab": {
          "base_uri": "https://localhost:8080/"
        },
        "id": "0yGVSLaT8Wpj",
        "outputId": "1aa1e001-2ee4-453d-e4a5-a1b6bb013e1a"
      },
      "execution_count": 21,
      "outputs": [
        {
          "output_type": "stream",
          "name": "stdout",
          "text": [
            "score is 78.19%\n"
          ]
        }
      ]
    },
    {
      "cell_type": "code",
      "source": [
        "print(classification_report(ytest,y_pred))"
      ],
      "metadata": {
        "colab": {
          "base_uri": "https://localhost:8080/"
        },
        "id": "xt70-Dwn8nNY",
        "outputId": "cdc23137-c320-442b-aaa4-c4e29c153dc0"
      },
      "execution_count": 22,
      "outputs": [
        {
          "output_type": "stream",
          "name": "stdout",
          "text": [
            "              precision    recall  f1-score   support\n",
            "\n",
            "           0       0.81      0.93      0.87      3849\n",
            "           1       0.60      0.34      0.43      1250\n",
            "\n",
            "    accuracy                           0.78      5099\n",
            "   macro avg       0.70      0.63      0.65      5099\n",
            "weighted avg       0.76      0.78      0.76      5099\n",
            "\n"
          ]
        }
      ]
    },
    {
      "cell_type": "code",
      "source": [
        "plot_confusion_matrix(lr_model,xtest,ytest)"
      ],
      "metadata": {
        "colab": {
          "base_uri": "https://localhost:8080/",
          "height": 297
        },
        "id": "bddqNlen9ARD",
        "outputId": "e509783e-edac-4adc-cb10-d66ee8b8772c"
      },
      "execution_count": 23,
      "outputs": [
        {
          "output_type": "execute_result",
          "data": {
            "text/plain": [
              "<sklearn.metrics._plot.confusion_matrix.ConfusionMatrixDisplay at 0x7f0e2a301f50>"
            ]
          },
          "metadata": {},
          "execution_count": 23
        },
        {
          "output_type": "display_data",
          "data": {
            "text/plain": [
              "<Figure size 432x288 with 2 Axes>"
            ],
            "image/png": "[encoded data removed]"
          },
          "metadata": {
            "needs_background": "light"
          }
        }
      ]
    },
    {
      "cell_type": "code",
      "source": [
        "from sklearn.model_selection import cross_val_score"
      ],
      "metadata": {
        "id": "0zFnsZf49a15"
      },
      "execution_count": 24,
      "outputs": []
    },
    {
      "cell_type": "code",
      "source": [
        "score=cross_val_score(estimator=lr_model,X=xtrain,y=ytrain,cv=10)\n"
      ],
      "metadata": {
        "id": "KhBaOvZ59gLI"
      },
      "execution_count": 25,
      "outputs": []
    },
    {
      "cell_type": "code",
      "source": [
        "print(\"accuracy {:.2f}%\".format(score.mean()*100))"
      ],
      "metadata": {
        "colab": {
          "base_uri": "https://localhost:8080/"
        },
        "id": "JE9VuC2V-i1L",
        "outputId": "5da28b5f-c197-413c-b610-429d1d67effc"
      },
      "execution_count": 26,
      "outputs": [
        {
          "output_type": "stream",
          "name": "stdout",
          "text": [
            "accuracy 79.30%\n"
          ]
        }
      ]
    },
    {
      "cell_type": "code",
      "source": [
        "print(\"Standard deviation {:.2f}%\".format(score.std()*100))"
      ],
      "metadata": {
        "colab": {
          "base_uri": "https://localhost:8080/"
        },
        "id": "gqOb5Nal-m-k",
        "outputId": "7df1f33c-497e-4a7e-bf1d-4ebf359cbb2e"
      },
      "execution_count": 27,
      "outputs": [
        {
          "output_type": "stream",
          "name": "stdout",
          "text": [
            "Standard deviation 0.61%\n"
          ]
        }
      ]
    },
    {
      "cell_type": "code",
      "source": [
        "from sklearn.tree import DecisionTreeClassifier\n",
        "dte=DecisionTreeClassifier()\n",
        "dte.fit(xtrain,ytrain)"
      ],
      "metadata": {
        "colab": {
          "base_uri": "https://localhost:8080/"
        },
        "id": "6J25bsxFAHlq",
        "outputId": "0c2289c7-a6ef-48ab-c7d8-35d38e34e6ba"
      },
      "execution_count": 28,
      "outputs": [
        {
          "output_type": "execute_result",
          "data": {
            "text/plain": [
              "DecisionTreeClassifier()"
            ]
          },
          "metadata": {},
          "execution_count": 28
        }
      ]
    },
    {
      "cell_type": "code",
      "source": [
        "y_pred2=dte.predict(xtest)"
      ],
      "metadata": {
        "id": "NohGrhxOBOpC"
      },
      "execution_count": 29,
      "outputs": []
    },
    {
      "cell_type": "code",
      "source": [
        "print(\"accuracy is {:.2f}%\".format(accuracy_score(ytest,y_pred2)*100))"
      ],
      "metadata": {
        "colab": {
          "base_uri": "https://localhost:8080/"
        },
        "id": "IHjUz-RmBV-i",
        "outputId": "374bfb64-eb66-460d-f4d0-dd0a06c3b40d"
      },
      "execution_count": 30,
      "outputs": [
        {
          "output_type": "stream",
          "name": "stdout",
          "text": [
            "accuracy is 98.10%\n"
          ]
        }
      ]
    },
    {
      "cell_type": "code",
      "source": [
        "score=cross_val_score(estimator=dte,X=xtrain,y=ytrain,cv=10)"
      ],
      "metadata": {
        "id": "2JqKU4NEBnDS"
      },
      "execution_count": 31,
      "outputs": []
    },
    {
      "cell_type": "code",
      "source": [
        "print(\"Accuracy={:.2f}%\".format(score.mean()*100))\n",
        "print(\"Standard Deviation ={:.2f}%\".format(score.std()*100))"
      ],
      "metadata": {
        "colab": {
          "base_uri": "https://localhost:8080/"
        },
        "id": "tEI8HH6HB6jj",
        "outputId": "0085d9bc-ffc4-49de-df4e-4607aff21491"
      },
      "execution_count": 32,
      "outputs": [
        {
          "output_type": "stream",
          "name": "stdout",
          "text": [
            "Accuracy=98.21%\n",
            "Standard Deviation =0.37%\n"
          ]
        }
      ]
    },
    {
      "cell_type": "code",
      "source": [
        "plot_confusion_matrix(dte,xtest,ytest)"
      ],
      "metadata": {
        "colab": {
          "base_uri": "https://localhost:8080/",
          "height": 297
        },
        "id": "cIemQRNVCRQU",
        "outputId": "58d27d5c-17db-4dfe-dee5-28849a0cccb8"
      },
      "execution_count": 33,
      "outputs": [
        {
          "output_type": "execute_result",
          "data": {
            "text/plain": [
              "<sklearn.metrics._plot.confusion_matrix.ConfusionMatrixDisplay at 0x7f0e2b1e2dd0>"
            ]
          },
          "metadata": {},
          "execution_count": 33
        },
        {
          "output_type": "display_data",
          "data": {
            "text/plain": [
              "<Figure size 432x288 with 2 Axes>"
            ],
            "image/png": "[encoded data removed]"
          },
          "metadata": {
            "needs_background": "light"
          }
        }
      ]
    },
    {
      "cell_type": "code",
      "source": [
        "print(classification_report(ytest,y_pred2))"
      ],
      "metadata": {
        "colab": {
          "base_uri": "https://localhost:8080/"
        },
        "id": "RivgoQFrE6Uh",
        "outputId": "d51c73eb-cfc3-4677-81e3-722ca6f7191e"
      },
      "execution_count": 34,
      "outputs": [
        {
          "output_type": "stream",
          "name": "stdout",
          "text": [
            "              precision    recall  f1-score   support\n",
            "\n",
            "           0       0.99      0.99      0.99      3849\n",
            "           1       0.96      0.97      0.96      1250\n",
            "\n",
            "    accuracy                           0.98      5099\n",
            "   macro avg       0.97      0.98      0.97      5099\n",
            "weighted avg       0.98      0.98      0.98      5099\n",
            "\n"
          ]
        }
      ]
    },
    {
      "cell_type": "code",
      "source": [
        "from sklearn.ensemble import RandomForestClassifier\n",
        "rfe=RandomForestClassifier(n_estimators=10)\n",
        "rfe.fit(xtrain,ytrain)"
      ],
      "metadata": {
        "colab": {
          "base_uri": "https://localhost:8080/"
        },
        "id": "gTeGLwMNCixi",
        "outputId": "43a6034b-8d3d-429e-fab7-9d0e147cf33b"
      },
      "execution_count": 35,
      "outputs": [
        {
          "output_type": "execute_result",
          "data": {
            "text/plain": [
              "RandomForestClassifier(n_estimators=10)"
            ]
          },
          "metadata": {},
          "execution_count": 35
        }
      ]
    },
    {
      "cell_type": "code",
      "source": [
        "y_pred3=rfe.predict(xtest)"
      ],
      "metadata": {
        "id": "QoLsNYPhCyWl"
      },
      "execution_count": 36,
      "outputs": []
    },
    {
      "cell_type": "code",
      "source": [
        "score=cross_val_score(estimator=rfe,X=xtrain,y=ytrain,cv=10)"
      ],
      "metadata": {
        "id": "KFioaD0PDFDK"
      },
      "execution_count": 37,
      "outputs": []
    },
    {
      "cell_type": "code",
      "source": [
        "print(\"Model accuracy {:.2f}%\".format(accuracy_score(ytest,y_pred3)))\n",
        "print(\"accuracy ={:.2f}%\".format(score.mean()*100))\n",
        "print(\"Standard Deviation ={:.2f}%\".format(score.std()*100))"
      ],
      "metadata": {
        "colab": {
          "base_uri": "https://localhost:8080/"
        },
        "id": "rmY2De-jDXmq",
        "outputId": "cab97ce4-c3ac-4cb3-86ef-c3ed09e97ffd"
      },
      "execution_count": 38,
      "outputs": [
        {
          "output_type": "stream",
          "name": "stdout",
          "text": [
            "Model accuracy 0.99%\n",
            "accuracy =98.84%\n",
            "Standard Deviation =0.27%\n"
          ]
        }
      ]
    },
    {
      "cell_type": "code",
      "source": [
        "plot_confusion_matrix(rfe,xtest,ytest)"
      ],
      "metadata": {
        "colab": {
          "base_uri": "https://localhost:8080/",
          "height": 297
        },
        "id": "9Kf0o6WVEHzr",
        "outputId": "282d1a69-708e-4aea-cc1e-2e202879bbd7"
      },
      "execution_count": 39,
      "outputs": [
        {
          "output_type": "execute_result",
          "data": {
            "text/plain": [
              "<sklearn.metrics._plot.confusion_matrix.ConfusionMatrixDisplay at 0x7f0e2b106d90>"
            ]
          },
          "metadata": {},
          "execution_count": 39
        },
        {
          "output_type": "display_data",
          "data": {
            "text/plain": [
              "<Figure size 432x288 with 2 Axes>"
            ],
            "image/png": "[encoded data removed]"
          },
          "metadata": {
            "needs_background": "light"
          }
        }
      ]
    },
    {
      "cell_type": "code",
      "source": [
        "print(classification_report(ytest,y_pred3))"
      ],
      "metadata": {
        "colab": {
          "base_uri": "https://localhost:8080/"
        },
        "id": "Fk78yqZwEkFz",
        "outputId": "90a9282d-8060-4245-a77a-efb95dbc40fb"
      },
      "execution_count": 40,
      "outputs": [
        {
          "output_type": "stream",
          "name": "stdout",
          "text": [
            "              precision    recall  f1-score   support\n",
            "\n",
            "           0       0.99      1.00      0.99      3849\n",
            "           1       0.99      0.97      0.98      1250\n",
            "\n",
            "    accuracy                           0.99      5099\n",
            "   macro avg       0.99      0.98      0.99      5099\n",
            "weighted avg       0.99      0.99      0.99      5099\n",
            "\n"
          ]
        }
      ]
    },
    {
      "cell_type": "code",
      "source": [
        "from sklearn.svm import SVC\n",
        "svc = SVC()\n",
        "svc.fit(xtrain, ytrain)"
      ],
      "metadata": {
        "colab": {
          "base_uri": "https://localhost:8080/"
        },
        "id": "plfs3aVpFllz",
        "outputId": "85b4774a-e7f9-4c94-cac2-8dd8a0caa3eb"
      },
      "execution_count": 41,
      "outputs": [
        {
          "output_type": "execute_result",
          "data": {
            "text/plain": [
              "SVC()"
            ]
          },
          "metadata": {},
          "execution_count": 41
        }
      ]
    },
    {
      "cell_type": "code",
      "source": [
        "y_pred4=svc.predict(xtest)"
      ],
      "metadata": {
        "id": "5IQiP_VaGJN7"
      },
      "execution_count": 42,
      "outputs": []
    },
    {
      "cell_type": "code",
      "source": [
        "score=cross_val_score(estimator=svc,X=xtrain,y=ytrain,cv=10)"
      ],
      "metadata": {
        "id": "_VH7-MyAGWoU"
      },
      "execution_count": 43,
      "outputs": []
    },
    {
      "cell_type": "code",
      "source": [
        "print(\"Model accuracy ={:.2f}%\".format(accuracy_score(ytest,y_pred4)*100))\n",
        "print(\"Accuracy ={:.2f}%\".format(score.mean()*100))\n",
        "print(\"Standard deviation ={:.2f}%\".format(score.std()*100))"
      ],
      "metadata": {
        "colab": {
          "base_uri": "https://localhost:8080/"
        },
        "id": "zZctro1RGTC6",
        "outputId": "43f0c066-a6a4-40eb-8e88-280ca31fa925"
      },
      "execution_count": 44,
      "outputs": [
        {
          "output_type": "stream",
          "name": "stdout",
          "text": [
            "Model accuracy =78.74%\n",
            "Accuracy =79.78%\n",
            "Standard deviation =0.43%\n"
          ]
        }
      ]
    },
    {
      "cell_type": "code",
      "source": [
        "print(plot_confusion_matrix(svc,xtest,ytest))"
      ],
      "metadata": {
        "colab": {
          "base_uri": "https://localhost:8080/",
          "height": 297
        },
        "id": "lCARO7I6JJ9x",
        "outputId": "2c9f48c1-d87e-4610-8319-c6a4137fdf03"
      },
      "execution_count": 45,
      "outputs": [
        {
          "output_type": "stream",
          "name": "stdout",
          "text": [
            "<sklearn.metrics._plot.confusion_matrix.ConfusionMatrixDisplay object at 0x7f0e2b4faad0>\n"
          ]
        },
        {
          "output_type": "display_data",
          "data": {
            "text/plain": [
              "<Figure size 432x288 with 2 Axes>"
            ],
            "image/png": "[encoded data removed]"
          },
          "metadata": {
            "needs_background": "light"
          }
        }
      ]
    },
    {
      "cell_type": "code",
      "source": [
        "print(classification_report(ytest,y_pred4))"
      ],
      "metadata": {
        "colab": {
          "base_uri": "https://localhost:8080/"
        },
        "id": "955xwMWoJr7y",
        "outputId": "e721e60e-aa7e-4835-941c-0921a4b03994"
      },
      "execution_count": 46,
      "outputs": [
        {
          "output_type": "stream",
          "name": "stdout",
          "text": [
            "              precision    recall  f1-score   support\n",
            "\n",
            "           0       0.78      0.99      0.88      3849\n",
            "           1       0.90      0.15      0.26      1250\n",
            "\n",
            "    accuracy                           0.79      5099\n",
            "   macro avg       0.84      0.57      0.57      5099\n",
            "weighted avg       0.81      0.79      0.72      5099\n",
            "\n"
          ]
        }
      ]
    },
    {
      "cell_type": "code",
      "source": [
        "from xgboost import XGBClassifier\n",
        "xgb=XGBClassifier()\n",
        "xgb.fit(xtrain, ytrain)"
      ],
      "metadata": {
        "colab": {
          "base_uri": "https://localhost:8080/"
        },
        "id": "f8bxkNhFIVty",
        "outputId": "446201a4-35b6-4f5b-9705-54ef45e96a6a"
      },
      "execution_count": 47,
      "outputs": [
        {
          "output_type": "execute_result",
          "data": {
            "text/plain": [
              "XGBClassifier()"
            ]
          },
          "metadata": {},
          "execution_count": 47
        }
      ]
    },
    {
      "cell_type": "code",
      "source": [
        "y_pred5=xgb.predict(xtest)"
      ],
      "metadata": {
        "id": "5d8RTtKnIdQ6"
      },
      "execution_count": 48,
      "outputs": []
    },
    {
      "cell_type": "code",
      "source": [
        "score=cross_val_score(estimator=xgb,X=xtrain,y=ytrain,cv=10)"
      ],
      "metadata": {
        "id": "KSNmjXCKIhei"
      },
      "execution_count": 49,
      "outputs": []
    },
    {
      "cell_type": "code",
      "source": [
        "print(\"Model accuracy ={:.2f}%\".format(accuracy_score(ytest,y_pred5)*100))\n",
        "print(\"Accuracy ={:.2f}%\".format(score.mean()*100))\n",
        "print(\"Standard deviation ={:.2f}%\".format(score.std()*100))"
      ],
      "metadata": {
        "colab": {
          "base_uri": "https://localhost:8080/"
        },
        "id": "Pt8E2QsOIzJ1",
        "outputId": "f977f384-2496-4293-c3f7-7cc2290bb7f3"
      },
      "execution_count": 50,
      "outputs": [
        {
          "output_type": "stream",
          "name": "stdout",
          "text": [
            "Model accuracy =97.16%\n",
            "Accuracy =97.21%\n",
            "Standard deviation =0.44%\n"
          ]
        }
      ]
    },
    {
      "cell_type": "code",
      "source": [
        "plot_confusion_matrix(xgb,xtest,ytest)"
      ],
      "metadata": {
        "colab": {
          "base_uri": "https://localhost:8080/",
          "height": 297
        },
        "id": "gz5HURBFI5Na",
        "outputId": "63a89e5e-f48b-4294-fceb-4e2db693f1d6"
      },
      "execution_count": 51,
      "outputs": [
        {
          "output_type": "execute_result",
          "data": {
            "text/plain": [
              "<sklearn.metrics._plot.confusion_matrix.ConfusionMatrixDisplay at 0x7f0e2e415e10>"
            ]
          },
          "metadata": {},
          "execution_count": 51
        },
        {
          "output_type": "display_data",
          "data": {
            "text/plain": [
              "<Figure size 432x288 with 2 Axes>"
            ],
            "image/png": "[encoded data removed]"
          },
          "metadata": {
            "needs_background": "light"
          }
        }
      ]
    },
    {
      "cell_type": "code",
      "source": [
        "print(classification_report(ytest,y_pred5))"
      ],
      "metadata": {
        "colab": {
          "base_uri": "https://localhost:8080/"
        },
        "id": "rXAYoep8JDCy",
        "outputId": "f783e14f-5e88-4552-9a27-603d48c7e8c1"
      },
      "execution_count": 52,
      "outputs": [
        {
          "output_type": "stream",
          "name": "stdout",
          "text": [
            "              precision    recall  f1-score   support\n",
            "\n",
            "           0       0.98      0.99      0.98      3849\n",
            "           1       0.96      0.93      0.94      1250\n",
            "\n",
            "    accuracy                           0.97      5099\n",
            "   macro avg       0.97      0.96      0.96      5099\n",
            "weighted avg       0.97      0.97      0.97      5099\n",
            "\n"
          ]
        }
      ]
    },
    {
      "cell_type": "code",
      "source": [
        "accuracy_lr=accuracy_score(ytest,y_pred)*100\n",
        "accuracy_dte=accuracy_score(ytest,y_pred2)*100\n",
        "accuracy_rfe=accuracy_score(ytest,y_pred3)*100\n",
        "accuracy_svc=accuracy_score(ytest,y_pred4)*100\n",
        "accuracy_xgb=accuracy_score(ytest,y_pred5)*100"
      ],
      "metadata": {
        "id": "zUl1Yp8lLqVV"
      },
      "execution_count": 53,
      "outputs": []
    },
    {
      "cell_type": "code",
      "source": [
        "algos=['Logistic regression','Decision Tree','Random Forest','SVC','XGB']\n",
        "accuracy=[accuracy_lr,accuracy_dte,accuracy_rfe,accuracy_svc,accuracy_xgb]\n",
        "accuracy=np.floor([i*100 for i in accuracy])\n",
        "\n",
        "fig=plt.figure(figsize=(10,6))\n",
        "plt.bar(algos,accuracy,color='orange',width=.3)\n",
        "plt.xlabel(\"Algorithm applied\")\n",
        "plt.ylabel(\"Model\")\n",
        "plt.title(\"Accuracy for each model\")"
      ],
      "metadata": {
        "colab": {
          "base_uri": "https://localhost:8080/",
          "height": 422
        },
        "id": "3OSXL31YLHiS",
        "outputId": "0ecf066f-828c-48c6-ed37-a84029dcd301"
      },
      "execution_count": 54,
      "outputs": [
        {
          "output_type": "execute_result",
          "data": {
            "text/plain": [
              "Text(0.5, 1.0, 'Accuracy for each model')"
            ]
          },
          "metadata": {},
          "execution_count": 54
        },
        {
          "output_type": "display_data",
          "data": {
            "text/plain": [
              "<Figure size 720x432 with 1 Axes>"
            ],
            "image/png": "[encoded data removed]"
          },
          "metadata": {
            "needs_background": "light"
          }
        }
      ]
    },
    {
      "cell_type": "code",
      "source": [
        "import pickle"
      ],
      "metadata": {
        "id": "MB1R5Cp2Ogil"
      },
      "execution_count": 55,
      "outputs": []
    },
    {
      "cell_type": "markdown",
      "source": [
        "## Saving model to disk"
      ],
      "metadata": {
        "id": "JLuI6puhPST7"
      }
    },
    {
      "cell_type": "code",
      "source": [
        "pickle.dump(rfe,open('model.pkl','wb'))"
      ],
      "metadata": {
        "id": "GGhsc0duOs5n"
      },
      "execution_count": 56,
      "outputs": []
    },
    {
      "cell_type": "markdown",
      "source": [
        "## Loading model to compare the results"
      ],
      "metadata": {
        "id": "yt2k4ahhPaVS"
      }
    },
    {
      "cell_type": "code",
      "source": [
        "model=pickle.load(open('model.pkl','rb'))"
      ],
      "metadata": {
        "id": "9pyYtiUePfAs"
      },
      "execution_count": 57,
      "outputs": []
    }
  ]
}